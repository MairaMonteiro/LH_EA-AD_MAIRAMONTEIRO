{
 "cells": [
  {
   "cell_type": "code",
   "execution_count": 1,
   "id": "51a6d1e7-f40e-4fa8-9053-32d276d23fd5",
   "metadata": {},
   "outputs": [],
   "source": [
    "import pandas as pd"
   ]
  },
  {
   "cell_type": "code",
   "execution_count": 2,
   "id": "8fa7d6d0-2152-43e8-ba71-945ba0dfe3d0",
   "metadata": {},
   "outputs": [],
   "source": [
    "df = pd.read_csv('banvic_data/clientes.csv')"
   ]
  },
  {
   "cell_type": "code",
   "execution_count": 3,
   "id": "35bf75f0-d50f-4337-b6ac-9abe1916cf72",
   "metadata": {},
   "outputs": [
    {
     "data": {
      "text/plain": [
       "Index(['cod_cliente', 'primeiro_nome', 'ultimo_nome', 'email', 'tipo_cliente',\n",
       "       'data_inclusao', 'cpfcnpj', 'data_nascimento', 'endereco', 'cep'],\n",
       "      dtype='object')"
      ]
     },
     "execution_count": 3,
     "metadata": {},
     "output_type": "execute_result"
    }
   ],
   "source": [
    "df.columns"
   ]
  },
  {
   "cell_type": "code",
   "execution_count": 8,
   "id": "d19b77ed-1bf9-42b0-939c-a2a2c73efb63",
   "metadata": {},
   "outputs": [
    {
     "name": "stdout",
     "output_type": "stream",
     "text": [
      "<class 'pandas.core.frame.DataFrame'>\n",
      "RangeIndex: 998 entries, 0 to 997\n",
      "Data columns (total 10 columns):\n",
      " #   Column           Non-Null Count  Dtype \n",
      "---  ------           --------------  ----- \n",
      " 0   cod_cliente      998 non-null    int64 \n",
      " 1   primeiro_nome    998 non-null    object\n",
      " 2   ultimo_nome      998 non-null    object\n",
      " 3   email            998 non-null    object\n",
      " 4   tipo_cliente     998 non-null    object\n",
      " 5   data_inclusao    998 non-null    object\n",
      " 6   cpfcnpj          998 non-null    object\n",
      " 7   data_nascimento  998 non-null    object\n",
      " 8   endereco         998 non-null    object\n",
      " 9   cep              998 non-null    object\n",
      "dtypes: int64(1), object(9)\n",
      "memory usage: 78.1+ KB\n"
     ]
    }
   ],
   "source": [
    "df.info()"
   ]
  },
  {
   "cell_type": "code",
   "execution_count": 5,
   "id": "909b2f04-b234-4d69-adda-1e03adea26fc",
   "metadata": {},
   "outputs": [
    {
     "data": {
      "text/plain": [
       "998"
      ]
     },
     "execution_count": 5,
     "metadata": {},
     "output_type": "execute_result"
    }
   ],
   "source": [
    "df['cod_cliente'].nunique()"
   ]
  },
  {
   "cell_type": "code",
   "execution_count": 7,
   "id": "3549f582-72b5-45d8-acd9-7907589a7476",
   "metadata": {},
   "outputs": [
    {
     "data": {
      "text/plain": [
       "998"
      ]
     },
     "execution_count": 7,
     "metadata": {},
     "output_type": "execute_result"
    }
   ],
   "source": [
    "df['cpfcnpj'].nunique()"
   ]
  },
  {
   "cell_type": "code",
   "execution_count": 9,
   "id": "89e4f4c1-9650-48cf-b484-69f22121e0b1",
   "metadata": {},
   "outputs": [
    {
     "data": {
      "text/plain": [
       "cod_cliente        998\n",
       "primeiro_nome      998\n",
       "ultimo_nome        998\n",
       "email              998\n",
       "tipo_cliente       998\n",
       "data_inclusao      998\n",
       "cpfcnpj            998\n",
       "data_nascimento    998\n",
       "endereco           998\n",
       "cep                998\n",
       "dtype: int64"
      ]
     },
     "execution_count": 9,
     "metadata": {},
     "output_type": "execute_result"
    }
   ],
   "source": [
    "df.count()"
   ]
  },
  {
   "cell_type": "code",
   "execution_count": 11,
   "id": "e00f24aa-6194-4c89-aca8-376c59fdcffb",
   "metadata": {},
   "outputs": [
    {
     "data": {
      "text/plain": [
       "cod_cliente        0\n",
       "primeiro_nome      0\n",
       "ultimo_nome        0\n",
       "email              0\n",
       "tipo_cliente       0\n",
       "data_inclusao      0\n",
       "cpfcnpj            0\n",
       "data_nascimento    0\n",
       "endereco           0\n",
       "cep                0\n",
       "dtype: int64"
      ]
     },
     "execution_count": 11,
     "metadata": {},
     "output_type": "execute_result"
    }
   ],
   "source": [
    "df.isnull().sum()"
   ]
  },
  {
   "cell_type": "code",
   "execution_count": 10,
   "id": "209f5ac4-5ba6-4dc4-a6df-294c7214fd6a",
   "metadata": {},
   "outputs": [
    {
     "data": {
      "text/html": [
       "<div>\n",
       "<style scoped>\n",
       "    .dataframe tbody tr th:only-of-type {\n",
       "        vertical-align: middle;\n",
       "    }\n",
       "\n",
       "    .dataframe tbody tr th {\n",
       "        vertical-align: top;\n",
       "    }\n",
       "\n",
       "    .dataframe thead th {\n",
       "        text-align: right;\n",
       "    }\n",
       "</style>\n",
       "<table border=\"1\" class=\"dataframe\">\n",
       "  <thead>\n",
       "    <tr style=\"text-align: right;\">\n",
       "      <th></th>\n",
       "      <th>cod_cliente</th>\n",
       "      <th>primeiro_nome</th>\n",
       "      <th>ultimo_nome</th>\n",
       "      <th>email</th>\n",
       "      <th>tipo_cliente</th>\n",
       "      <th>data_inclusao</th>\n",
       "      <th>cpfcnpj</th>\n",
       "      <th>data_nascimento</th>\n",
       "      <th>endereco</th>\n",
       "      <th>cep</th>\n",
       "    </tr>\n",
       "  </thead>\n",
       "  <tbody>\n",
       "    <tr>\n",
       "      <th>0</th>\n",
       "      <td>28</td>\n",
       "      <td>Sabrina</td>\n",
       "      <td>Dias</td>\n",
       "      <td>moreiraemanuelly@example.org</td>\n",
       "      <td>PF</td>\n",
       "      <td>2017-04-03 16:11:00 UTC</td>\n",
       "      <td>357.081.496-39</td>\n",
       "      <td>2006-08-11</td>\n",
       "      <td>Praia de Duarte Vila Piratininga 81327-166 Fer...</td>\n",
       "      <td>95140-704</td>\n",
       "    </tr>\n",
       "    <tr>\n",
       "      <th>1</th>\n",
       "      <td>674</td>\n",
       "      <td>Luiz Felipe</td>\n",
       "      <td>Dias</td>\n",
       "      <td>pedroferreira@example.org</td>\n",
       "      <td>PF</td>\n",
       "      <td>2021-02-10 13:27:00 UTC</td>\n",
       "      <td>085.196.374-93</td>\n",
       "      <td>1995-10-11</td>\n",
       "      <td>Avenida da Rosa, 654 João Paulo Ii 20295449 Nu...</td>\n",
       "      <td>76516-765</td>\n",
       "    </tr>\n",
       "    <tr>\n",
       "      <th>2</th>\n",
       "      <td>693</td>\n",
       "      <td>Renan</td>\n",
       "      <td>Dias</td>\n",
       "      <td>ogomes@example.net</td>\n",
       "      <td>PF</td>\n",
       "      <td>2020-01-21 13:12:00 UTC</td>\n",
       "      <td>783.416.059-10</td>\n",
       "      <td>1948-11-19</td>\n",
       "      <td>Jardim de Rodrigues Ipiranga 14161-477 Duarte ...</td>\n",
       "      <td>51779625</td>\n",
       "    </tr>\n",
       "    <tr>\n",
       "      <th>3</th>\n",
       "      <td>743</td>\n",
       "      <td>Clara</td>\n",
       "      <td>Dias</td>\n",
       "      <td>rafaelcorreia@example.org</td>\n",
       "      <td>PF</td>\n",
       "      <td>2019-05-06 11:39:00 UTC</td>\n",
       "      <td>589.237.610-95</td>\n",
       "      <td>1978-01-27</td>\n",
       "      <td>Colônia Thomas Silva, 9 Tupi B 15771-946 Ferna...</td>\n",
       "      <td>19615792</td>\n",
       "    </tr>\n",
       "    <tr>\n",
       "      <th>4</th>\n",
       "      <td>769</td>\n",
       "      <td>André</td>\n",
       "      <td>Dias</td>\n",
       "      <td>danilo33@example.org</td>\n",
       "      <td>PF</td>\n",
       "      <td>2017-01-07 14:53:00 UTC</td>\n",
       "      <td>459.608.721-02</td>\n",
       "      <td>1990-08-25</td>\n",
       "      <td>Rua Correia, 889 Diamante 59123250 Aragão / RS</td>\n",
       "      <td>01672838</td>\n",
       "    </tr>\n",
       "  </tbody>\n",
       "</table>\n",
       "</div>"
      ],
      "text/plain": [
       "   cod_cliente primeiro_nome ultimo_nome                         email  \\\n",
       "0           28       Sabrina        Dias  moreiraemanuelly@example.org   \n",
       "1          674   Luiz Felipe        Dias     pedroferreira@example.org   \n",
       "2          693         Renan        Dias            ogomes@example.net   \n",
       "3          743         Clara        Dias     rafaelcorreia@example.org   \n",
       "4          769         André        Dias          danilo33@example.org   \n",
       "\n",
       "  tipo_cliente            data_inclusao         cpfcnpj data_nascimento  \\\n",
       "0           PF  2017-04-03 16:11:00 UTC  357.081.496-39      2006-08-11   \n",
       "1           PF  2021-02-10 13:27:00 UTC  085.196.374-93      1995-10-11   \n",
       "2           PF  2020-01-21 13:12:00 UTC  783.416.059-10      1948-11-19   \n",
       "3           PF  2019-05-06 11:39:00 UTC  589.237.610-95      1978-01-27   \n",
       "4           PF  2017-01-07 14:53:00 UTC  459.608.721-02      1990-08-25   \n",
       "\n",
       "                                            endereco        cep  \n",
       "0  Praia de Duarte Vila Piratininga 81327-166 Fer...  95140-704  \n",
       "1  Avenida da Rosa, 654 João Paulo Ii 20295449 Nu...  76516-765  \n",
       "2  Jardim de Rodrigues Ipiranga 14161-477 Duarte ...   51779625  \n",
       "3  Colônia Thomas Silva, 9 Tupi B 15771-946 Ferna...   19615792  \n",
       "4     Rua Correia, 889 Diamante 59123250 Aragão / RS   01672838  "
      ]
     },
     "execution_count": 10,
     "metadata": {},
     "output_type": "execute_result"
    }
   ],
   "source": [
    "df.head()"
   ]
  }
 ],
 "metadata": {
  "kernelspec": {
   "display_name": "Python 3 (ipykernel)",
   "language": "python",
   "name": "python3"
  },
  "language_info": {
   "codemirror_mode": {
    "name": "ipython",
    "version": 3
   },
   "file_extension": ".py",
   "mimetype": "text/x-python",
   "name": "python",
   "nbconvert_exporter": "python",
   "pygments_lexer": "ipython3",
   "version": "3.11.7"
  }
 },
 "nbformat": 4,
 "nbformat_minor": 5
}
