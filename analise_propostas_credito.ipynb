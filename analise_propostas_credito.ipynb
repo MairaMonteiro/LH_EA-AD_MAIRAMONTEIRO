{
 "cells": [
  {
   "cell_type": "code",
   "execution_count": 4,
   "id": "51a6d1e7-f40e-4fa8-9053-32d276d23fd5",
   "metadata": {},
   "outputs": [],
   "source": [
    "import pandas as pd"
   ]
  },
  {
   "cell_type": "code",
   "execution_count": 5,
   "id": "8fa7d6d0-2152-43e8-ba71-945ba0dfe3d0",
   "metadata": {},
   "outputs": [],
   "source": [
    "df = pd.read_csv('banvic_data/propostas_credito.csv')"
   ]
  },
  {
   "cell_type": "code",
   "execution_count": 6,
   "id": "35bf75f0-d50f-4337-b6ac-9abe1916cf72",
   "metadata": {},
   "outputs": [
    {
     "data": {
      "text/plain": [
       "Index(['cod_proposta', 'cod_cliente', 'cod_colaborador',\n",
       "       'data_entrada_proposta', 'taxa_juros_mensal', 'valor_proposta',\n",
       "       'valor_financiamento', 'valor_entrada', 'valor_prestacao',\n",
       "       'quantidade_parcelas', 'carencia', 'status_proposta'],\n",
       "      dtype='object')"
      ]
     },
     "execution_count": 6,
     "metadata": {},
     "output_type": "execute_result"
    }
   ],
   "source": [
    "df.columns"
   ]
  },
  {
   "cell_type": "code",
   "execution_count": 7,
   "id": "909b2f04-b234-4d69-adda-1e03adea26fc",
   "metadata": {},
   "outputs": [
    {
     "data": {
      "text/plain": [
       "100"
      ]
     },
     "execution_count": 7,
     "metadata": {},
     "output_type": "execute_result"
    }
   ],
   "source": [
    "df['cod_colaborador'].nunique()"
   ]
  },
  {
   "cell_type": "code",
   "execution_count": 8,
   "id": "e333b34c-a2a4-401e-a846-516ec79363f3",
   "metadata": {},
   "outputs": [
    {
     "data": {
      "text/plain": [
       "2000"
      ]
     },
     "execution_count": 8,
     "metadata": {},
     "output_type": "execute_result"
    }
   ],
   "source": [
    "df['cod_proposta'].nunique()"
   ]
  },
  {
   "cell_type": "code",
   "execution_count": 9,
   "id": "3549f582-72b5-45d8-acd9-7907589a7476",
   "metadata": {},
   "outputs": [
    {
     "data": {
      "text/plain": [
       "861"
      ]
     },
     "execution_count": 9,
     "metadata": {},
     "output_type": "execute_result"
    }
   ],
   "source": [
    "df['cod_cliente'].nunique()"
   ]
  },
  {
   "cell_type": "code",
   "execution_count": 12,
   "id": "cfc6b81d-3602-4813-a1b3-d4f12b90795f",
   "metadata": {},
   "outputs": [
    {
     "data": {
      "text/plain": [
       "4"
      ]
     },
     "execution_count": 12,
     "metadata": {},
     "output_type": "execute_result"
    }
   ],
   "source": [
    "df['status_proposta'].nunique()"
   ]
  },
  {
   "cell_type": "code",
   "execution_count": 14,
   "id": "89e4f4c1-9650-48cf-b484-69f22121e0b1",
   "metadata": {},
   "outputs": [
    {
     "data": {
      "text/plain": [
       "cod_proposta             2000\n",
       "cod_cliente              2000\n",
       "cod_colaborador          2000\n",
       "data_entrada_proposta    2000\n",
       "taxa_juros_mensal        2000\n",
       "valor_proposta           2000\n",
       "valor_financiamento      2000\n",
       "valor_entrada            2000\n",
       "valor_prestacao          2000\n",
       "quantidade_parcelas      2000\n",
       "carencia                 2000\n",
       "status_proposta          2000\n",
       "dtype: int64"
      ]
     },
     "execution_count": 14,
     "metadata": {},
     "output_type": "execute_result"
    }
   ],
   "source": [
    "df.count()"
   ]
  },
  {
   "cell_type": "code",
   "execution_count": 13,
   "id": "c8b0c91c-3d01-4167-810e-1c1601597cd3",
   "metadata": {},
   "outputs": [
    {
     "data": {
      "text/plain": [
       "cod_proposta             0\n",
       "cod_cliente              0\n",
       "cod_colaborador          0\n",
       "data_entrada_proposta    0\n",
       "taxa_juros_mensal        0\n",
       "valor_proposta           0\n",
       "valor_financiamento      0\n",
       "valor_entrada            0\n",
       "valor_prestacao          0\n",
       "quantidade_parcelas      0\n",
       "carencia                 0\n",
       "status_proposta          0\n",
       "dtype: int64"
      ]
     },
     "execution_count": 13,
     "metadata": {},
     "output_type": "execute_result"
    }
   ],
   "source": [
    "df.isnull().sum()"
   ]
  },
  {
   "cell_type": "code",
   "execution_count": 11,
   "id": "209f5ac4-5ba6-4dc4-a6df-294c7214fd6a",
   "metadata": {},
   "outputs": [
    {
     "data": {
      "text/html": [
       "<div>\n",
       "<style scoped>\n",
       "    .dataframe tbody tr th:only-of-type {\n",
       "        vertical-align: middle;\n",
       "    }\n",
       "\n",
       "    .dataframe tbody tr th {\n",
       "        vertical-align: top;\n",
       "    }\n",
       "\n",
       "    .dataframe thead th {\n",
       "        text-align: right;\n",
       "    }\n",
       "</style>\n",
       "<table border=\"1\" class=\"dataframe\">\n",
       "  <thead>\n",
       "    <tr style=\"text-align: right;\">\n",
       "      <th></th>\n",
       "      <th>cod_proposta</th>\n",
       "      <th>cod_cliente</th>\n",
       "      <th>cod_colaborador</th>\n",
       "      <th>data_entrada_proposta</th>\n",
       "      <th>taxa_juros_mensal</th>\n",
       "      <th>valor_proposta</th>\n",
       "      <th>valor_financiamento</th>\n",
       "      <th>valor_entrada</th>\n",
       "      <th>valor_prestacao</th>\n",
       "      <th>quantidade_parcelas</th>\n",
       "      <th>carencia</th>\n",
       "      <th>status_proposta</th>\n",
       "    </tr>\n",
       "  </thead>\n",
       "  <tbody>\n",
       "    <tr>\n",
       "      <th>0</th>\n",
       "      <td>116</td>\n",
       "      <td>338</td>\n",
       "      <td>1</td>\n",
       "      <td>2014-05-30 18:43:12 UTC</td>\n",
       "      <td>0.0194</td>\n",
       "      <td>36199.950355</td>\n",
       "      <td>50032.03</td>\n",
       "      <td>13832.079645</td>\n",
       "      <td>1045.219825</td>\n",
       "      <td>58</td>\n",
       "      <td>0</td>\n",
       "      <td>Enviada</td>\n",
       "    </tr>\n",
       "    <tr>\n",
       "      <th>1</th>\n",
       "      <td>715</td>\n",
       "      <td>45</td>\n",
       "      <td>1</td>\n",
       "      <td>2021-06-17 13:09:32 UTC</td>\n",
       "      <td>0.0131</td>\n",
       "      <td>12897.538285</td>\n",
       "      <td>19848.55</td>\n",
       "      <td>6951.011715</td>\n",
       "      <td>232.124685</td>\n",
       "      <td>100</td>\n",
       "      <td>1</td>\n",
       "      <td>Enviada</td>\n",
       "    </tr>\n",
       "    <tr>\n",
       "      <th>2</th>\n",
       "      <td>755</td>\n",
       "      <td>494</td>\n",
       "      <td>1</td>\n",
       "      <td>2021-08-10 04:24:02 UTC</td>\n",
       "      <td>0.0203</td>\n",
       "      <td>122236.312551</td>\n",
       "      <td>187154.36</td>\n",
       "      <td>64918.047449</td>\n",
       "      <td>3673.518951</td>\n",
       "      <td>56</td>\n",
       "      <td>0</td>\n",
       "      <td>Enviada</td>\n",
       "    </tr>\n",
       "    <tr>\n",
       "      <th>3</th>\n",
       "      <td>953</td>\n",
       "      <td>381</td>\n",
       "      <td>1</td>\n",
       "      <td>2011-02-23 07:57:58 UTC</td>\n",
       "      <td>0.0167</td>\n",
       "      <td>47784.649757</td>\n",
       "      <td>59530.61</td>\n",
       "      <td>11745.960243</td>\n",
       "      <td>955.041560</td>\n",
       "      <td>109</td>\n",
       "      <td>3</td>\n",
       "      <td>Enviada</td>\n",
       "    </tr>\n",
       "    <tr>\n",
       "      <th>4</th>\n",
       "      <td>1046</td>\n",
       "      <td>176</td>\n",
       "      <td>1</td>\n",
       "      <td>2010-11-15 16:03:28 UTC</td>\n",
       "      <td>0.0211</td>\n",
       "      <td>178393.038243</td>\n",
       "      <td>214294.19</td>\n",
       "      <td>35901.151757</td>\n",
       "      <td>10219.659415</td>\n",
       "      <td>22</td>\n",
       "      <td>4</td>\n",
       "      <td>Enviada</td>\n",
       "    </tr>\n",
       "  </tbody>\n",
       "</table>\n",
       "</div>"
      ],
      "text/plain": [
       "   cod_proposta  cod_cliente  cod_colaborador    data_entrada_proposta  \\\n",
       "0           116          338                1  2014-05-30 18:43:12 UTC   \n",
       "1           715           45                1  2021-06-17 13:09:32 UTC   \n",
       "2           755          494                1  2021-08-10 04:24:02 UTC   \n",
       "3           953          381                1  2011-02-23 07:57:58 UTC   \n",
       "4          1046          176                1  2010-11-15 16:03:28 UTC   \n",
       "\n",
       "   taxa_juros_mensal  valor_proposta  valor_financiamento  valor_entrada  \\\n",
       "0             0.0194    36199.950355             50032.03   13832.079645   \n",
       "1             0.0131    12897.538285             19848.55    6951.011715   \n",
       "2             0.0203   122236.312551            187154.36   64918.047449   \n",
       "3             0.0167    47784.649757             59530.61   11745.960243   \n",
       "4             0.0211   178393.038243            214294.19   35901.151757   \n",
       "\n",
       "   valor_prestacao  quantidade_parcelas  carencia status_proposta  \n",
       "0      1045.219825                   58         0         Enviada  \n",
       "1       232.124685                  100         1         Enviada  \n",
       "2      3673.518951                   56         0         Enviada  \n",
       "3       955.041560                  109         3         Enviada  \n",
       "4     10219.659415                   22         4         Enviada  "
      ]
     },
     "execution_count": 11,
     "metadata": {},
     "output_type": "execute_result"
    }
   ],
   "source": [
    "df.head()"
   ]
  },
  {
   "cell_type": "code",
   "execution_count": null,
   "id": "e00f24aa-6194-4c89-aca8-376c59fdcffb",
   "metadata": {},
   "outputs": [],
   "source": []
  }
 ],
 "metadata": {
  "kernelspec": {
   "display_name": "Python 3 (ipykernel)",
   "language": "python",
   "name": "python3"
  },
  "language_info": {
   "codemirror_mode": {
    "name": "ipython",
    "version": 3
   },
   "file_extension": ".py",
   "mimetype": "text/x-python",
   "name": "python",
   "nbconvert_exporter": "python",
   "pygments_lexer": "ipython3",
   "version": "3.11.7"
  }
 },
 "nbformat": 4,
 "nbformat_minor": 5
}
