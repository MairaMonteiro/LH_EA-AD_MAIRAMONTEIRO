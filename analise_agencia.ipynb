{
 "cells": [
  {
   "cell_type": "code",
   "execution_count": 43,
   "id": "d629b754-829c-499b-8e63-95fdc78f9200",
   "metadata": {},
   "outputs": [],
   "source": [
    "import pandas as pd"
   ]
  },
  {
   "cell_type": "code",
   "execution_count": 40,
   "id": "2f0f71a8-7aff-43cd-9b4c-1ffc51c76d80",
   "metadata": {},
   "outputs": [],
   "source": [
    "df = pd.read_csv('banvic_data/agencias.csv')"
   ]
  },
  {
   "cell_type": "code",
   "execution_count": 41,
   "id": "449a2560-0a24-44b2-a3c4-41c2d13390ed",
   "metadata": {},
   "outputs": [
    {
     "data": {
      "text/plain": [
       "Index(['cod_agencia', 'nome', 'endereco', 'cidade', 'uf', 'data_abertura',\n",
       "       'tipo_agencia'],\n",
       "      dtype='object')"
      ]
     },
     "execution_count": 41,
     "metadata": {},
     "output_type": "execute_result"
    }
   ],
   "source": [
    "df.columns"
   ]
  },
  {
   "cell_type": "code",
   "execution_count": 38,
   "id": "1f23611b-0fb5-434c-b09f-67f79f2fdcff",
   "metadata": {},
   "outputs": [
    {
     "data": {
      "text/plain": [
       "cod_agencia      10\n",
       "nome             10\n",
       "endereco         10\n",
       "cidade           10\n",
       "uf               10\n",
       "data_abertura    10\n",
       "tipo_agencia     10\n",
       "dtype: int64"
      ]
     },
     "execution_count": 38,
     "metadata": {},
     "output_type": "execute_result"
    }
   ],
   "source": [
    "df.count()"
   ]
  },
  {
   "cell_type": "code",
   "execution_count": 34,
   "id": "9f8b565d-6370-4326-9a02-bacb9a127066",
   "metadata": {},
   "outputs": [
    {
     "data": {
      "text/plain": [
       "10"
      ]
     },
     "execution_count": 34,
     "metadata": {},
     "output_type": "execute_result"
    }
   ],
   "source": [
    "df['cod_agencia'].nunique()"
   ]
  },
  {
   "cell_type": "code",
   "execution_count": 35,
   "id": "76460894-88d7-4b5c-ba2d-688d80bc3211",
   "metadata": {},
   "outputs": [
    {
     "data": {
      "text/plain": [
       "5"
      ]
     },
     "execution_count": 35,
     "metadata": {},
     "output_type": "execute_result"
    }
   ],
   "source": [
    "df['uf'].nunique()"
   ]
  },
  {
   "cell_type": "code",
   "execution_count": 42,
   "id": "96191231-1951-4220-8330-b3237b574892",
   "metadata": {},
   "outputs": [
    {
     "data": {
      "text/plain": [
       "uf\n",
       "SP    6\n",
       "RS    1\n",
       "RJ    1\n",
       "SC    1\n",
       "PE    1\n",
       "Name: count, dtype: int64"
      ]
     },
     "execution_count": 42,
     "metadata": {},
     "output_type": "execute_result"
    }
   ],
   "source": [
    "df['uf'].value_counts()"
   ]
  },
  {
   "cell_type": "code",
   "execution_count": 36,
   "id": "bfd277fa-da3d-46a6-949f-316720856fb1",
   "metadata": {},
   "outputs": [
    {
     "data": {
      "text/plain": [
       "7"
      ]
     },
     "execution_count": 36,
     "metadata": {},
     "output_type": "execute_result"
    }
   ],
   "source": [
    "df['cidade'].nunique()"
   ]
  },
  {
   "cell_type": "code",
   "execution_count": 39,
   "id": "36100499-b16d-495e-ad17-b45c58a2ae1f",
   "metadata": {},
   "outputs": [
    {
     "data": {
      "text/plain": [
       "cod_agencia      0\n",
       "nome             0\n",
       "endereco         0\n",
       "cidade           0\n",
       "uf               0\n",
       "data_abertura    0\n",
       "tipo_agencia     0\n",
       "dtype: int64"
      ]
     },
     "execution_count": 39,
     "metadata": {},
     "output_type": "execute_result"
    }
   ],
   "source": [
    "df.isnull().sum()"
   ]
  },
  {
   "cell_type": "code",
   "execution_count": 37,
   "id": "9e6e4efc-0751-43e9-91bc-1d06881eaa3a",
   "metadata": {},
   "outputs": [
    {
     "data": {
      "text/html": [
       "<div>\n",
       "<style scoped>\n",
       "    .dataframe tbody tr th:only-of-type {\n",
       "        vertical-align: middle;\n",
       "    }\n",
       "\n",
       "    .dataframe tbody tr th {\n",
       "        vertical-align: top;\n",
       "    }\n",
       "\n",
       "    .dataframe thead th {\n",
       "        text-align: right;\n",
       "    }\n",
       "</style>\n",
       "<table border=\"1\" class=\"dataframe\">\n",
       "  <thead>\n",
       "    <tr style=\"text-align: right;\">\n",
       "      <th></th>\n",
       "      <th>cod_agencia</th>\n",
       "      <th>nome</th>\n",
       "      <th>endereco</th>\n",
       "      <th>cidade</th>\n",
       "      <th>uf</th>\n",
       "      <th>data_abertura</th>\n",
       "      <th>tipo_agencia</th>\n",
       "    </tr>\n",
       "  </thead>\n",
       "  <tbody>\n",
       "    <tr>\n",
       "      <th>0</th>\n",
       "      <td>7</td>\n",
       "      <td>Agência Digital</td>\n",
       "      <td>Av. Paulista, 1436 - Cerqueira César, São Paul...</td>\n",
       "      <td>São Paulo</td>\n",
       "      <td>SP</td>\n",
       "      <td>2015-08-01</td>\n",
       "      <td>Digital</td>\n",
       "    </tr>\n",
       "    <tr>\n",
       "      <th>1</th>\n",
       "      <td>1</td>\n",
       "      <td>Agência Matriz</td>\n",
       "      <td>Av. Paulista, 1436 - Cerqueira César, São Paul...</td>\n",
       "      <td>São Paulo</td>\n",
       "      <td>SP</td>\n",
       "      <td>2010-01-01</td>\n",
       "      <td>Física</td>\n",
       "    </tr>\n",
       "    <tr>\n",
       "      <th>2</th>\n",
       "      <td>2</td>\n",
       "      <td>Agência Tatuapé</td>\n",
       "      <td>Praça Sílvio Romero, 158 - Tatuapé, São Paulo ...</td>\n",
       "      <td>São Paulo</td>\n",
       "      <td>SP</td>\n",
       "      <td>2010-06-14</td>\n",
       "      <td>Física</td>\n",
       "    </tr>\n",
       "    <tr>\n",
       "      <th>3</th>\n",
       "      <td>3</td>\n",
       "      <td>Agência Campinas</td>\n",
       "      <td>Av. Francisco Glicério, 895 - Vila Lidia, Camp...</td>\n",
       "      <td>Campinas</td>\n",
       "      <td>SP</td>\n",
       "      <td>2012-03-04</td>\n",
       "      <td>Física</td>\n",
       "    </tr>\n",
       "    <tr>\n",
       "      <th>4</th>\n",
       "      <td>4</td>\n",
       "      <td>Agência Osasco</td>\n",
       "      <td>Av. Antônio Carlos Costa, 1000 - Bela Vista, O...</td>\n",
       "      <td>Osasco</td>\n",
       "      <td>SP</td>\n",
       "      <td>2013-11-06</td>\n",
       "      <td>Física</td>\n",
       "    </tr>\n",
       "  </tbody>\n",
       "</table>\n",
       "</div>"
      ],
      "text/plain": [
       "   cod_agencia              nome  \\\n",
       "0            7   Agência Digital   \n",
       "1            1    Agência Matriz   \n",
       "2            2   Agência Tatuapé   \n",
       "3            3  Agência Campinas   \n",
       "4            4    Agência Osasco   \n",
       "\n",
       "                                            endereco     cidade  uf  \\\n",
       "0  Av. Paulista, 1436 - Cerqueira César, São Paul...  São Paulo  SP   \n",
       "1  Av. Paulista, 1436 - Cerqueira César, São Paul...  São Paulo  SP   \n",
       "2  Praça Sílvio Romero, 158 - Tatuapé, São Paulo ...  São Paulo  SP   \n",
       "3  Av. Francisco Glicério, 895 - Vila Lidia, Camp...   Campinas  SP   \n",
       "4  Av. Antônio Carlos Costa, 1000 - Bela Vista, O...     Osasco  SP   \n",
       "\n",
       "  data_abertura tipo_agencia  \n",
       "0    2015-08-01      Digital  \n",
       "1    2010-01-01       Física  \n",
       "2    2010-06-14       Física  \n",
       "3    2012-03-04       Física  \n",
       "4    2013-11-06       Física  "
      ]
     },
     "execution_count": 37,
     "metadata": {},
     "output_type": "execute_result"
    }
   ],
   "source": [
    "df.head()"
   ]
  },
  {
   "cell_type": "code",
   "execution_count": 28,
   "id": "c9e8d56e-fa80-4f1e-b197-88b51db1e815",
   "metadata": {},
   "outputs": [],
   "source": [
    "#O banco tem 10 agçências, distribuídas em 5 estados e 7 cidades. \n",
    "#O estado de São Paulo é o único que contém mais de uma agência física do banco, \n",
    "#enquanrto a cidade de São Paulo é a única que tem 3 agencias físicas e 1 digital."
   ]
  },
  {
   "cell_type": "code",
   "execution_count": null,
   "id": "bca2258a-8519-4e15-8dd8-facc0f7fff98",
   "metadata": {},
   "outputs": [],
   "source": []
  }
 ],
 "metadata": {
  "kernelspec": {
   "display_name": "Python 3 (ipykernel)",
   "language": "python",
   "name": "python3"
  },
  "language_info": {
   "codemirror_mode": {
    "name": "ipython",
    "version": 3
   },
   "file_extension": ".py",
   "mimetype": "text/x-python",
   "name": "python",
   "nbconvert_exporter": "python",
   "pygments_lexer": "ipython3",
   "version": "3.11.7"
  }
 },
 "nbformat": 4,
 "nbformat_minor": 5
}
