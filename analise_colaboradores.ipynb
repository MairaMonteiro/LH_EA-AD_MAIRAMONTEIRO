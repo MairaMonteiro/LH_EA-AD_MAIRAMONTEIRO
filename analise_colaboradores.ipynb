{
 "cells": [
  {
   "cell_type": "code",
   "execution_count": 1,
   "id": "08af88e3-11a0-4823-b554-d26639cc76fe",
   "metadata": {},
   "outputs": [],
   "source": [
    "import pandas as pd"
   ]
  },
  {
   "cell_type": "code",
   "execution_count": 4,
   "id": "aad1fe16-c72d-4d5f-9f5b-165cd044ca51",
   "metadata": {},
   "outputs": [],
   "source": [
    "df = pd.read_csv('banvic_data/colaboradores.csv')"
   ]
  },
  {
   "cell_type": "code",
   "execution_count": 8,
   "id": "caadc80b-c828-4f58-8625-f53da3fcda88",
   "metadata": {},
   "outputs": [
    {
     "data": {
      "text/plain": [
       "Index(['cod_colaborador', 'primeiro_nome', 'ultimo_nome', 'email', 'cpf',\n",
       "       'data_nascimento', 'endereco', 'cep'],\n",
       "      dtype='object')"
      ]
     },
     "execution_count": 8,
     "metadata": {},
     "output_type": "execute_result"
    }
   ],
   "source": [
    "df.columns"
   ]
  },
  {
   "cell_type": "code",
   "execution_count": 12,
   "id": "59375f8d-77c2-4830-8486-954f5a931736",
   "metadata": {},
   "outputs": [
    {
     "data": {
      "text/plain": [
       "100"
      ]
     },
     "execution_count": 12,
     "metadata": {},
     "output_type": "execute_result"
    }
   ],
   "source": [
    "df['cod_colaborador'].nunique()"
   ]
  },
  {
   "cell_type": "code",
   "execution_count": 13,
   "id": "922965ea-c3d2-475a-a133-332be015975b",
   "metadata": {},
   "outputs": [
    {
     "data": {
      "text/plain": [
       "100"
      ]
     },
     "execution_count": 13,
     "metadata": {},
     "output_type": "execute_result"
    }
   ],
   "source": [
    "df['cpf'].nunique()"
   ]
  },
  {
   "cell_type": "code",
   "execution_count": 14,
   "id": "a1c8ebfd-fe2c-485d-9d4e-f69894919fd8",
   "metadata": {},
   "outputs": [
    {
     "data": {
      "text/plain": [
       "cod_colaborador    0\n",
       "primeiro_nome      0\n",
       "ultimo_nome        0\n",
       "email              0\n",
       "cpf                0\n",
       "data_nascimento    0\n",
       "endereco           0\n",
       "cep                0\n",
       "dtype: int64"
      ]
     },
     "execution_count": 14,
     "metadata": {},
     "output_type": "execute_result"
    }
   ],
   "source": [
    "df.isnull().sum()"
   ]
  },
  {
   "cell_type": "code",
   "execution_count": 15,
   "id": "0ef7ea69-f779-4a8c-a9c2-c25a3bd99b02",
   "metadata": {},
   "outputs": [
    {
     "data": {
      "text/html": [
       "<div>\n",
       "<style scoped>\n",
       "    .dataframe tbody tr th:only-of-type {\n",
       "        vertical-align: middle;\n",
       "    }\n",
       "\n",
       "    .dataframe tbody tr th {\n",
       "        vertical-align: top;\n",
       "    }\n",
       "\n",
       "    .dataframe thead th {\n",
       "        text-align: right;\n",
       "    }\n",
       "</style>\n",
       "<table border=\"1\" class=\"dataframe\">\n",
       "  <thead>\n",
       "    <tr style=\"text-align: right;\">\n",
       "      <th></th>\n",
       "      <th>cod_colaborador</th>\n",
       "      <th>primeiro_nome</th>\n",
       "      <th>ultimo_nome</th>\n",
       "      <th>email</th>\n",
       "      <th>cpf</th>\n",
       "      <th>data_nascimento</th>\n",
       "      <th>endereco</th>\n",
       "      <th>cep</th>\n",
       "    </tr>\n",
       "  </thead>\n",
       "  <tbody>\n",
       "    <tr>\n",
       "      <th>0</th>\n",
       "      <td>14</td>\n",
       "      <td>Paulo</td>\n",
       "      <td>Dias</td>\n",
       "      <td>melissalopes@example.net</td>\n",
       "      <td>847.210.695-02</td>\n",
       "      <td>1974-04-24</td>\n",
       "      <td>Lagoa de Rodrigues, 62 Zilah Sposito 37328-273...</td>\n",
       "      <td>27275674</td>\n",
       "    </tr>\n",
       "    <tr>\n",
       "      <th>1</th>\n",
       "      <td>19</td>\n",
       "      <td>Luiz Fernando</td>\n",
       "      <td>Dias</td>\n",
       "      <td>pcunha@example.net</td>\n",
       "      <td>820.415.963-33</td>\n",
       "      <td>1994-07-10</td>\n",
       "      <td>Ladeira de Moreira, 82 Jardim Atlântico 27617-...</td>\n",
       "      <td>50013962</td>\n",
       "    </tr>\n",
       "    <tr>\n",
       "      <th>2</th>\n",
       "      <td>32</td>\n",
       "      <td>Vitor Hugo</td>\n",
       "      <td>Dias</td>\n",
       "      <td>aragaonicolas@example.net</td>\n",
       "      <td>936.172.548-37</td>\n",
       "      <td>1986-12-18</td>\n",
       "      <td>Área Sophie Moreira Maria Virgínia 71941-111 S...</td>\n",
       "      <td>08955-215</td>\n",
       "    </tr>\n",
       "    <tr>\n",
       "      <th>3</th>\n",
       "      <td>88</td>\n",
       "      <td>João Gabriel</td>\n",
       "      <td>Lima</td>\n",
       "      <td>luiz-otaviorezende@example.org</td>\n",
       "      <td>967.082.451-67</td>\n",
       "      <td>1994-10-19</td>\n",
       "      <td>Trevo Murilo Ramos, 92 São Benedito 73615-597 ...</td>\n",
       "      <td>24224-305</td>\n",
       "    </tr>\n",
       "    <tr>\n",
       "      <th>4</th>\n",
       "      <td>39</td>\n",
       "      <td>Maria Eduarda</td>\n",
       "      <td>Melo</td>\n",
       "      <td>joao-pedro72@example.com</td>\n",
       "      <td>857.496.210-49</td>\n",
       "      <td>1996-03-01</td>\n",
       "      <td>Parque de Moura, 65 Granja Werneck 67769059 da...</td>\n",
       "      <td>96896390</td>\n",
       "    </tr>\n",
       "  </tbody>\n",
       "</table>\n",
       "</div>"
      ],
      "text/plain": [
       "   cod_colaborador  primeiro_nome ultimo_nome                           email  \\\n",
       "0               14          Paulo        Dias        melissalopes@example.net   \n",
       "1               19  Luiz Fernando        Dias              pcunha@example.net   \n",
       "2               32     Vitor Hugo        Dias       aragaonicolas@example.net   \n",
       "3               88   João Gabriel        Lima  luiz-otaviorezende@example.org   \n",
       "4               39  Maria Eduarda        Melo        joao-pedro72@example.com   \n",
       "\n",
       "              cpf data_nascimento  \\\n",
       "0  847.210.695-02      1974-04-24   \n",
       "1  820.415.963-33      1994-07-10   \n",
       "2  936.172.548-37      1986-12-18   \n",
       "3  967.082.451-67      1994-10-19   \n",
       "4  857.496.210-49      1996-03-01   \n",
       "\n",
       "                                            endereco        cep  \n",
       "0  Lagoa de Rodrigues, 62 Zilah Sposito 37328-273...   27275674  \n",
       "1  Ladeira de Moreira, 82 Jardim Atlântico 27617-...   50013962  \n",
       "2  Área Sophie Moreira Maria Virgínia 71941-111 S...  08955-215  \n",
       "3  Trevo Murilo Ramos, 92 São Benedito 73615-597 ...  24224-305  \n",
       "4  Parque de Moura, 65 Granja Werneck 67769059 da...   96896390  "
      ]
     },
     "execution_count": 15,
     "metadata": {},
     "output_type": "execute_result"
    }
   ],
   "source": [
    "df.head()"
   ]
  }
 ],
 "metadata": {
  "kernelspec": {
   "display_name": "Python 3 (ipykernel)",
   "language": "python",
   "name": "python3"
  },
  "language_info": {
   "codemirror_mode": {
    "name": "ipython",
    "version": 3
   },
   "file_extension": ".py",
   "mimetype": "text/x-python",
   "name": "python",
   "nbconvert_exporter": "python",
   "pygments_lexer": "ipython3",
   "version": "3.11.7"
  }
 },
 "nbformat": 4,
 "nbformat_minor": 5
}
