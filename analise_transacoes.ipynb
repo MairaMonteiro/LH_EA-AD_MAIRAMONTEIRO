{
 "cells": [
  {
   "cell_type": "code",
   "execution_count": 1,
   "id": "51a6d1e7-f40e-4fa8-9053-32d276d23fd5",
   "metadata": {},
   "outputs": [],
   "source": [
    "import pandas as pd"
   ]
  },
  {
   "cell_type": "code",
   "execution_count": 2,
   "id": "8fa7d6d0-2152-43e8-ba71-945ba0dfe3d0",
   "metadata": {},
   "outputs": [],
   "source": [
    "df = pd.read_csv('banvic_data/transacoes.csv')"
   ]
  },
  {
   "cell_type": "code",
   "execution_count": 3,
   "id": "35bf75f0-d50f-4337-b6ac-9abe1916cf72",
   "metadata": {},
   "outputs": [
    {
     "data": {
      "text/plain": [
       "Index(['cod_transacao', 'num_conta', 'data_transacao', 'nome_transacao',\n",
       "       'valor_transacao'],\n",
       "      dtype='object')"
      ]
     },
     "execution_count": 3,
     "metadata": {},
     "output_type": "execute_result"
    }
   ],
   "source": [
    "df.columns"
   ]
  },
  {
   "cell_type": "code",
   "execution_count": 4,
   "id": "d19b77ed-1bf9-42b0-939c-a2a2c73efb63",
   "metadata": {},
   "outputs": [
    {
     "name": "stdout",
     "output_type": "stream",
     "text": [
      "<class 'pandas.core.frame.DataFrame'>\n",
      "RangeIndex: 71999 entries, 0 to 71998\n",
      "Data columns (total 5 columns):\n",
      " #   Column           Non-Null Count  Dtype  \n",
      "---  ------           --------------  -----  \n",
      " 0   cod_transacao    71999 non-null  int64  \n",
      " 1   num_conta        71999 non-null  int64  \n",
      " 2   data_transacao   71999 non-null  object \n",
      " 3   nome_transacao   71999 non-null  object \n",
      " 4   valor_transacao  71999 non-null  float64\n",
      "dtypes: float64(1), int64(2), object(2)\n",
      "memory usage: 2.7+ MB\n"
     ]
    }
   ],
   "source": [
    "df.info()"
   ]
  },
  {
   "cell_type": "code",
   "execution_count": 6,
   "id": "909b2f04-b234-4d69-adda-1e03adea26fc",
   "metadata": {},
   "outputs": [
    {
     "data": {
      "text/plain": [
       "71999"
      ]
     },
     "execution_count": 6,
     "metadata": {},
     "output_type": "execute_result"
    }
   ],
   "source": [
    "df['cod_transacao'].nunique()"
   ]
  },
  {
   "cell_type": "code",
   "execution_count": 7,
   "id": "89e4f4c1-9650-48cf-b484-69f22121e0b1",
   "metadata": {},
   "outputs": [
    {
     "data": {
      "text/plain": [
       "cod_transacao      71999\n",
       "num_conta          71999\n",
       "data_transacao     71999\n",
       "nome_transacao     71999\n",
       "valor_transacao    71999\n",
       "dtype: int64"
      ]
     },
     "execution_count": 7,
     "metadata": {},
     "output_type": "execute_result"
    }
   ],
   "source": [
    "df.count()"
   ]
  },
  {
   "cell_type": "code",
   "execution_count": 8,
   "id": "e00f24aa-6194-4c89-aca8-376c59fdcffb",
   "metadata": {},
   "outputs": [
    {
     "data": {
      "text/plain": [
       "cod_transacao      0\n",
       "num_conta          0\n",
       "data_transacao     0\n",
       "nome_transacao     0\n",
       "valor_transacao    0\n",
       "dtype: int64"
      ]
     },
     "execution_count": 8,
     "metadata": {},
     "output_type": "execute_result"
    }
   ],
   "source": [
    "df.isnull().sum()"
   ]
  },
  {
   "cell_type": "code",
   "execution_count": 9,
   "id": "209f5ac4-5ba6-4dc4-a6df-294c7214fd6a",
   "metadata": {},
   "outputs": [
    {
     "data": {
      "text/html": [
       "<div>\n",
       "<style scoped>\n",
       "    .dataframe tbody tr th:only-of-type {\n",
       "        vertical-align: middle;\n",
       "    }\n",
       "\n",
       "    .dataframe tbody tr th {\n",
       "        vertical-align: top;\n",
       "    }\n",
       "\n",
       "    .dataframe thead th {\n",
       "        text-align: right;\n",
       "    }\n",
       "</style>\n",
       "<table border=\"1\" class=\"dataframe\">\n",
       "  <thead>\n",
       "    <tr style=\"text-align: right;\">\n",
       "      <th></th>\n",
       "      <th>cod_transacao</th>\n",
       "      <th>num_conta</th>\n",
       "      <th>data_transacao</th>\n",
       "      <th>nome_transacao</th>\n",
       "      <th>valor_transacao</th>\n",
       "    </tr>\n",
       "  </thead>\n",
       "  <tbody>\n",
       "    <tr>\n",
       "      <th>0</th>\n",
       "      <td>3100</td>\n",
       "      <td>256</td>\n",
       "      <td>2020-05-22 03:15:21 UTC</td>\n",
       "      <td>Saque</td>\n",
       "      <td>-130.0</td>\n",
       "    </tr>\n",
       "    <tr>\n",
       "      <th>1</th>\n",
       "      <td>28405</td>\n",
       "      <td>256</td>\n",
       "      <td>2021-06-29 11:52:38 UTC</td>\n",
       "      <td>Saque</td>\n",
       "      <td>-255.0</td>\n",
       "    </tr>\n",
       "    <tr>\n",
       "      <th>2</th>\n",
       "      <td>1776</td>\n",
       "      <td>512</td>\n",
       "      <td>2020-05-17 13:04:50 UTC</td>\n",
       "      <td>Saque</td>\n",
       "      <td>-250.0</td>\n",
       "    </tr>\n",
       "    <tr>\n",
       "      <th>3</th>\n",
       "      <td>14311</td>\n",
       "      <td>512</td>\n",
       "      <td>2020-09-06 02:55:34 UTC</td>\n",
       "      <td>Saque</td>\n",
       "      <td>-80.0</td>\n",
       "    </tr>\n",
       "    <tr>\n",
       "      <th>4</th>\n",
       "      <td>25012</td>\n",
       "      <td>512</td>\n",
       "      <td>2020-10-16 09:26:52 UTC</td>\n",
       "      <td>Saque</td>\n",
       "      <td>-475.0</td>\n",
       "    </tr>\n",
       "  </tbody>\n",
       "</table>\n",
       "</div>"
      ],
      "text/plain": [
       "   cod_transacao  num_conta           data_transacao nome_transacao  \\\n",
       "0           3100        256  2020-05-22 03:15:21 UTC          Saque   \n",
       "1          28405        256  2021-06-29 11:52:38 UTC          Saque   \n",
       "2           1776        512  2020-05-17 13:04:50 UTC          Saque   \n",
       "3          14311        512  2020-09-06 02:55:34 UTC          Saque   \n",
       "4          25012        512  2020-10-16 09:26:52 UTC          Saque   \n",
       "\n",
       "   valor_transacao  \n",
       "0           -130.0  \n",
       "1           -255.0  \n",
       "2           -250.0  \n",
       "3            -80.0  \n",
       "4           -475.0  "
      ]
     },
     "execution_count": 9,
     "metadata": {},
     "output_type": "execute_result"
    }
   ],
   "source": [
    "df.head()"
   ]
  }
 ],
 "metadata": {
  "kernelspec": {
   "display_name": "Python 3 (ipykernel)",
   "language": "python",
   "name": "python3"
  },
  "language_info": {
   "codemirror_mode": {
    "name": "ipython",
    "version": 3
   },
   "file_extension": ".py",
   "mimetype": "text/x-python",
   "name": "python",
   "nbconvert_exporter": "python",
   "pygments_lexer": "ipython3",
   "version": "3.11.7"
  }
 },
 "nbformat": 4,
 "nbformat_minor": 5
}
