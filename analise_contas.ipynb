{
 "cells": [
  {
   "cell_type": "code",
   "execution_count": 1,
   "id": "51a6d1e7-f40e-4fa8-9053-32d276d23fd5",
   "metadata": {},
   "outputs": [],
   "source": [
    "import pandas as pd"
   ]
  },
  {
   "cell_type": "code",
   "execution_count": 2,
   "id": "8fa7d6d0-2152-43e8-ba71-945ba0dfe3d0",
   "metadata": {},
   "outputs": [],
   "source": [
    "df = pd.read_csv('banvic_data/contas.csv')"
   ]
  },
  {
   "cell_type": "code",
   "execution_count": 3,
   "id": "35bf75f0-d50f-4337-b6ac-9abe1916cf72",
   "metadata": {},
   "outputs": [
    {
     "data": {
      "text/plain": [
       "Index(['num_conta', 'cod_cliente', 'cod_agencia', 'cod_colaborador',\n",
       "       'tipo_conta', 'data_abertura', 'saldo_total', 'saldo_disponivel',\n",
       "       'data_ultimo_lancamento'],\n",
       "      dtype='object')"
      ]
     },
     "execution_count": 3,
     "metadata": {},
     "output_type": "execute_result"
    }
   ],
   "source": [
    "df.columns"
   ]
  },
  {
   "cell_type": "code",
   "execution_count": 9,
   "id": "a6ed255e-92b4-4a06-9b15-00a98e9b3ce2",
   "metadata": {},
   "outputs": [
    {
     "name": "stdout",
     "output_type": "stream",
     "text": [
      "<class 'pandas.core.frame.DataFrame'>\n",
      "RangeIndex: 999 entries, 0 to 998\n",
      "Data columns (total 9 columns):\n",
      " #   Column                  Non-Null Count  Dtype  \n",
      "---  ------                  --------------  -----  \n",
      " 0   num_conta               999 non-null    int64  \n",
      " 1   cod_cliente             999 non-null    int64  \n",
      " 2   cod_agencia             999 non-null    int64  \n",
      " 3   cod_colaborador         999 non-null    int64  \n",
      " 4   tipo_conta              999 non-null    object \n",
      " 5   data_abertura           999 non-null    object \n",
      " 6   saldo_total             999 non-null    float64\n",
      " 7   saldo_disponivel        999 non-null    float64\n",
      " 8   data_ultimo_lancamento  999 non-null    object \n",
      "dtypes: float64(2), int64(4), object(3)\n",
      "memory usage: 70.4+ KB\n"
     ]
    }
   ],
   "source": [
    "df.info()"
   ]
  },
  {
   "cell_type": "code",
   "execution_count": 4,
   "id": "909b2f04-b234-4d69-adda-1e03adea26fc",
   "metadata": {},
   "outputs": [
    {
     "data": {
      "text/plain": [
       "999"
      ]
     },
     "execution_count": 4,
     "metadata": {},
     "output_type": "execute_result"
    }
   ],
   "source": [
    "df['num_conta'].nunique()"
   ]
  },
  {
   "cell_type": "code",
   "execution_count": 5,
   "id": "e333b34c-a2a4-401e-a846-516ec79363f3",
   "metadata": {},
   "outputs": [
    {
     "data": {
      "text/plain": [
       "999"
      ]
     },
     "execution_count": 5,
     "metadata": {},
     "output_type": "execute_result"
    }
   ],
   "source": [
    "df['cod_cliente'].nunique()"
   ]
  },
  {
   "cell_type": "code",
   "execution_count": 6,
   "id": "3549f582-72b5-45d8-acd9-7907589a7476",
   "metadata": {},
   "outputs": [
    {
     "data": {
      "text/plain": [
       "1"
      ]
     },
     "execution_count": 6,
     "metadata": {},
     "output_type": "execute_result"
    }
   ],
   "source": [
    "df['tipo_conta'].nunique()"
   ]
  },
  {
   "cell_type": "code",
   "execution_count": 7,
   "id": "89e4f4c1-9650-48cf-b484-69f22121e0b1",
   "metadata": {},
   "outputs": [
    {
     "data": {
      "text/plain": [
       "num_conta                 999\n",
       "cod_cliente               999\n",
       "cod_agencia               999\n",
       "cod_colaborador           999\n",
       "tipo_conta                999\n",
       "data_abertura             999\n",
       "saldo_total               999\n",
       "saldo_disponivel          999\n",
       "data_ultimo_lancamento    999\n",
       "dtype: int64"
      ]
     },
     "execution_count": 7,
     "metadata": {},
     "output_type": "execute_result"
    }
   ],
   "source": [
    "df.count()"
   ]
  },
  {
   "cell_type": "code",
   "execution_count": 8,
   "id": "dc8188fc-2a80-4f33-a796-b8fa43f18a7b",
   "metadata": {},
   "outputs": [
    {
     "data": {
      "text/plain": [
       "num_conta                 0\n",
       "cod_cliente               0\n",
       "cod_agencia               0\n",
       "cod_colaborador           0\n",
       "tipo_conta                0\n",
       "data_abertura             0\n",
       "saldo_total               0\n",
       "saldo_disponivel          0\n",
       "data_ultimo_lancamento    0\n",
       "dtype: int64"
      ]
     },
     "execution_count": 8,
     "metadata": {},
     "output_type": "execute_result"
    }
   ],
   "source": [
    "df.isnull().sum()"
   ]
  },
  {
   "cell_type": "code",
   "execution_count": 11,
   "id": "209f5ac4-5ba6-4dc4-a6df-294c7214fd6a",
   "metadata": {},
   "outputs": [
    {
     "data": {
      "text/html": [
       "<div>\n",
       "<style scoped>\n",
       "    .dataframe tbody tr th:only-of-type {\n",
       "        vertical-align: middle;\n",
       "    }\n",
       "\n",
       "    .dataframe tbody tr th {\n",
       "        vertical-align: top;\n",
       "    }\n",
       "\n",
       "    .dataframe thead th {\n",
       "        text-align: right;\n",
       "    }\n",
       "</style>\n",
       "<table border=\"1\" class=\"dataframe\">\n",
       "  <thead>\n",
       "    <tr style=\"text-align: right;\">\n",
       "      <th></th>\n",
       "      <th>cod_proposta</th>\n",
       "      <th>cod_cliente</th>\n",
       "      <th>cod_colaborador</th>\n",
       "      <th>data_entrada_proposta</th>\n",
       "      <th>taxa_juros_mensal</th>\n",
       "      <th>valor_proposta</th>\n",
       "      <th>valor_financiamento</th>\n",
       "      <th>valor_entrada</th>\n",
       "      <th>valor_prestacao</th>\n",
       "      <th>quantidade_parcelas</th>\n",
       "      <th>carencia</th>\n",
       "      <th>status_proposta</th>\n",
       "    </tr>\n",
       "  </thead>\n",
       "  <tbody>\n",
       "    <tr>\n",
       "      <th>0</th>\n",
       "      <td>116</td>\n",
       "      <td>338</td>\n",
       "      <td>1</td>\n",
       "      <td>2014-05-30 18:43:12 UTC</td>\n",
       "      <td>0.0194</td>\n",
       "      <td>36199.950355</td>\n",
       "      <td>50032.03</td>\n",
       "      <td>13832.079645</td>\n",
       "      <td>1045.219825</td>\n",
       "      <td>58</td>\n",
       "      <td>0</td>\n",
       "      <td>Enviada</td>\n",
       "    </tr>\n",
       "    <tr>\n",
       "      <th>1</th>\n",
       "      <td>715</td>\n",
       "      <td>45</td>\n",
       "      <td>1</td>\n",
       "      <td>2021-06-17 13:09:32 UTC</td>\n",
       "      <td>0.0131</td>\n",
       "      <td>12897.538285</td>\n",
       "      <td>19848.55</td>\n",
       "      <td>6951.011715</td>\n",
       "      <td>232.124685</td>\n",
       "      <td>100</td>\n",
       "      <td>1</td>\n",
       "      <td>Enviada</td>\n",
       "    </tr>\n",
       "    <tr>\n",
       "      <th>2</th>\n",
       "      <td>755</td>\n",
       "      <td>494</td>\n",
       "      <td>1</td>\n",
       "      <td>2021-08-10 04:24:02 UTC</td>\n",
       "      <td>0.0203</td>\n",
       "      <td>122236.312551</td>\n",
       "      <td>187154.36</td>\n",
       "      <td>64918.047449</td>\n",
       "      <td>3673.518951</td>\n",
       "      <td>56</td>\n",
       "      <td>0</td>\n",
       "      <td>Enviada</td>\n",
       "    </tr>\n",
       "    <tr>\n",
       "      <th>3</th>\n",
       "      <td>953</td>\n",
       "      <td>381</td>\n",
       "      <td>1</td>\n",
       "      <td>2011-02-23 07:57:58 UTC</td>\n",
       "      <td>0.0167</td>\n",
       "      <td>47784.649757</td>\n",
       "      <td>59530.61</td>\n",
       "      <td>11745.960243</td>\n",
       "      <td>955.041560</td>\n",
       "      <td>109</td>\n",
       "      <td>3</td>\n",
       "      <td>Enviada</td>\n",
       "    </tr>\n",
       "    <tr>\n",
       "      <th>4</th>\n",
       "      <td>1046</td>\n",
       "      <td>176</td>\n",
       "      <td>1</td>\n",
       "      <td>2010-11-15 16:03:28 UTC</td>\n",
       "      <td>0.0211</td>\n",
       "      <td>178393.038243</td>\n",
       "      <td>214294.19</td>\n",
       "      <td>35901.151757</td>\n",
       "      <td>10219.659415</td>\n",
       "      <td>22</td>\n",
       "      <td>4</td>\n",
       "      <td>Enviada</td>\n",
       "    </tr>\n",
       "  </tbody>\n",
       "</table>\n",
       "</div>"
      ],
      "text/plain": [
       "   cod_proposta  cod_cliente  cod_colaborador    data_entrada_proposta  \\\n",
       "0           116          338                1  2014-05-30 18:43:12 UTC   \n",
       "1           715           45                1  2021-06-17 13:09:32 UTC   \n",
       "2           755          494                1  2021-08-10 04:24:02 UTC   \n",
       "3           953          381                1  2011-02-23 07:57:58 UTC   \n",
       "4          1046          176                1  2010-11-15 16:03:28 UTC   \n",
       "\n",
       "   taxa_juros_mensal  valor_proposta  valor_financiamento  valor_entrada  \\\n",
       "0             0.0194    36199.950355             50032.03   13832.079645   \n",
       "1             0.0131    12897.538285             19848.55    6951.011715   \n",
       "2             0.0203   122236.312551            187154.36   64918.047449   \n",
       "3             0.0167    47784.649757             59530.61   11745.960243   \n",
       "4             0.0211   178393.038243            214294.19   35901.151757   \n",
       "\n",
       "   valor_prestacao  quantidade_parcelas  carencia status_proposta  \n",
       "0      1045.219825                   58         0         Enviada  \n",
       "1       232.124685                  100         1         Enviada  \n",
       "2      3673.518951                   56         0         Enviada  \n",
       "3       955.041560                  109         3         Enviada  \n",
       "4     10219.659415                   22         4         Enviada  "
      ]
     },
     "execution_count": 11,
     "metadata": {},
     "output_type": "execute_result"
    }
   ],
   "source": [
    "df.head()"
   ]
  },
  {
   "cell_type": "code",
   "execution_count": null,
   "id": "e00f24aa-6194-4c89-aca8-376c59fdcffb",
   "metadata": {},
   "outputs": [],
   "source": []
  }
 ],
 "metadata": {
  "kernelspec": {
   "display_name": "Python 3 (ipykernel)",
   "language": "python",
   "name": "python3"
  },
  "language_info": {
   "codemirror_mode": {
    "name": "ipython",
    "version": 3
   },
   "file_extension": ".py",
   "mimetype": "text/x-python",
   "name": "python",
   "nbconvert_exporter": "python",
   "pygments_lexer": "ipython3",
   "version": "3.11.7"
  }
 },
 "nbformat": 4,
 "nbformat_minor": 5
}
