{
 "cells": [
  {
   "cell_type": "code",
   "execution_count": 52,
   "id": "e2974300-bf4f-4a1c-91e9-38dbe694c47b",
   "metadata": {},
   "outputs": [],
   "source": [
    "import pandas as pd\n",
    "import seaborn as sns\n",
    "import matplotlib.pyplot as plt\n",
    "import re\n",
    "from datetime import datetime"
   ]
  },
  {
   "cell_type": "code",
   "execution_count": 6,
   "id": "ed78c9af-daeb-4ef7-bf7e-9f1bdd0b5e34",
   "metadata": {},
   "outputs": [],
   "source": [
    "df_1 = pd.read_csv('banvic_data/clientes.csv')"
   ]
  },
  {
   "cell_type": "code",
   "execution_count": 4,
   "id": "a35f46bb-6079-4882-bca0-b4402279ba40",
   "metadata": {},
   "outputs": [
    {
     "name": "stdout",
     "output_type": "stream",
     "text": [
      "<class 'pandas.core.frame.DataFrame'>\n",
      "RangeIndex: 998 entries, 0 to 997\n",
      "Data columns (total 10 columns):\n",
      " #   Column           Non-Null Count  Dtype \n",
      "---  ------           --------------  ----- \n",
      " 0   cod_cliente      998 non-null    int64 \n",
      " 1   primeiro_nome    998 non-null    object\n",
      " 2   ultimo_nome      998 non-null    object\n",
      " 3   email            998 non-null    object\n",
      " 4   tipo_cliente     998 non-null    object\n",
      " 5   data_inclusao    998 non-null    object\n",
      " 6   cpfcnpj          998 non-null    object\n",
      " 7   data_nascimento  998 non-null    object\n",
      " 8   endereco         998 non-null    object\n",
      " 9   cep              998 non-null    object\n",
      "dtypes: int64(1), object(9)\n",
      "memory usage: 78.1+ KB\n"
     ]
    }
   ],
   "source": [
    "df_1.info()"
   ]
  },
  {
   "cell_type": "code",
   "execution_count": 53,
   "id": "3e93e48e-b5e1-489c-ba43-6a59ee1d2105",
   "metadata": {},
   "outputs": [],
   "source": [
    "#Mudar data de nascimento para datetime\n",
    "df_1['data_nascimento'] = pd.to_datetime(df_1['data_nascimento'])"
   ]
  },
  {
   "cell_type": "code",
   "execution_count": 54,
   "id": "5cae9224-da89-4777-b899-5a166ad19175",
   "metadata": {},
   "outputs": [],
   "source": [
    "#criando uma coluna chamada idade atual \n",
    "df_1['idade_atual'] = df_1['data_nascimento'].apply(lambda x: datetime.now().year - x.year - ((datetime.now().month, datetime.now().day) < (x.month, x.day)))"
   ]
  },
  {
   "cell_type": "code",
   "execution_count": 13,
   "id": "3b6847b9-d2bb-440e-9c3a-dc7784ec7eb3",
   "metadata": {},
   "outputs": [],
   "source": [
    "#criando coluna chamada faixa etária\n",
    "#Definir faixas etárias\n",
    "faixas_etarias = pd.cut(df_1['idade_atual'], bins=[0, 18, 25, 35, 45, 55, 65, 100], labels=['0-18', '19-25', '26-35', '36-45', '46-55', '56-65', '66+'])\n",
    "\n",
    "#criar coluna faixa etária\n",
    "df_1['faixa_etaria'] = faixas_etarias"
   ]
  },
  {
   "cell_type": "code",
   "execution_count": 18,
   "id": "78d30659-302c-4e93-8ba9-867a8f3e6706",
   "metadata": {},
   "outputs": [
    {
     "data": {
      "text/plain": [
       "faixa_etaria\n",
       "0-18      32\n",
       "19-25    105\n",
       "26-35    147\n",
       "36-45    158\n",
       "46-55    149\n",
       "56-65    146\n",
       "66+      261\n",
       "Name: count, dtype: int64"
      ]
     },
     "execution_count": 18,
     "metadata": {},
     "output_type": "execute_result"
    }
   ],
   "source": [
    "df_1['faixa_etaria'].value_counts().sort_index()"
   ]
  },
  {
   "cell_type": "code",
   "execution_count": null,
   "id": "c100adef-d332-430f-9d92-c1bc29c737f2",
   "metadata": {},
   "outputs": [],
   "source": [
    "#Grande parte dos clientes estão acima de 66 anos - é preciso criar mais benefícios para atrair os mais jovens"
   ]
  },
  {
   "cell_type": "code",
   "execution_count": 29,
   "id": "fe3f7770-d319-454b-be9a-3916acb3fb0d",
   "metadata": {},
   "outputs": [
    {
     "data": {
      "text/plain": [
       "1"
      ]
     },
     "execution_count": 29,
     "metadata": {},
     "output_type": "execute_result"
    }
   ],
   "source": [
    "df_1['tipo_cliente'].nunique()"
   ]
  },
  {
   "cell_type": "code",
   "execution_count": null,
   "id": "22a3e577-7e33-472a-83ce-b4d6af3c42b1",
   "metadata": {},
   "outputs": [],
   "source": [
    "#Todos os clientes têm conta de Pessoa Física"
   ]
  },
  {
   "cell_type": "code",
   "execution_count": 38,
   "id": "f9a55a2d-a21b-4814-ac88-2f506657d125",
   "metadata": {},
   "outputs": [
    {
     "data": {
      "text/plain": [
       "0     Praia de Duarte Vila Piratininga 81327-166 Fer...\n",
       "1     Avenida da Rosa, 654 João Paulo Ii 20295449 Nu...\n",
       "2     Jardim de Rodrigues Ipiranga 14161-477 Duarte ...\n",
       "3     Colônia Thomas Silva, 9 Tupi B 15771-946 Ferna...\n",
       "4        Rua Correia, 889 Diamante 59123250 Aragão / RS\n",
       "5     Favela de da Mata, 3 Conjunto Novo Dom Bosco 7...\n",
       "6     Esplanada Maria Luiza Ribeiro, 4 Conjunto Cali...\n",
       "7     Ladeira Elisa da Rocha, 69 João Pinheiro 13964...\n",
       "8     Passarela Lucca Castro, 73 Vila Paris 99268696...\n",
       "9     Fazenda Emanuel Gomes, 6 Cruzeiro 29428-910 No...\n",
       "10    Lago de Moraes, 592 Mirtes 10935-233 Nasciment...\n",
       "Name: endereco, dtype: object"
      ]
     },
     "execution_count": 38,
     "metadata": {},
     "output_type": "execute_result"
    }
   ],
   "source": [
    "df_1['endereco'].head(11)"
   ]
  },
  {
   "cell_type": "code",
   "execution_count": 44,
   "id": "cc56f69d-04de-41d5-aa1f-d9c812e7c318",
   "metadata": {},
   "outputs": [],
   "source": [
    "#Função para encontrar na coluna endereço a informação sobre o Estado de residência dos clientes\n",
    "def extrair_estado(endereco):\n",
    "    padrao_estado = r'/\\s*([A-Z]{2})\\b'\n",
    "    #Extraindo a informação de Estado usando Regex\n",
    "    estado = re.search(padrao_estado, endereco)\n",
    "    if estado:\n",
    "        estado = estado.group(1)\n",
    "    else:\n",
    "        estado = none\n",
    "    return estado\n",
    "\n",
    "df_1['estado'] = df_1['endereco'].apply(lambda x: extrair_estado(x))\n"
   ]
  },
  {
   "cell_type": "code",
   "execution_count": 55,
   "id": "e433e080-e89d-47e1-9654-1e754eb16512",
   "metadata": {},
   "outputs": [],
   "source": [
    "#O banco tem cliente em todos os estados a pesar de ter apenas 9 agências físicas. \n",
    "#Grande parte do público utiliza os recursos digitais"
   ]
  },
  {
   "cell_type": "code",
   "execution_count": 50,
   "id": "13dd1d31-ceff-4fa7-8427-00dae97bede8",
   "metadata": {},
   "outputs": [
    {
     "data": {
      "text/plain": [
       "estado\n",
       "AC    38\n",
       "AL    40\n",
       "AM    53\n",
       "AP    35\n",
       "BA    34\n",
       "CE    43\n",
       "DF    33\n",
       "ES    49\n",
       "GO    34\n",
       "MA    44\n",
       "MG    40\n",
       "MS    47\n",
       "MT    28\n",
       "PA    33\n",
       "PB    37\n",
       "PE    28\n",
       "PI    31\n",
       "PR    33\n",
       "RJ    32\n",
       "RN    34\n",
       "RO    25\n",
       "RR    41\n",
       "RS    35\n",
       "SC    37\n",
       "SE    29\n",
       "SP    48\n",
       "TO    37\n",
       "Name: count, dtype: int64"
      ]
     },
     "execution_count": 50,
     "metadata": {},
     "output_type": "execute_result"
    }
   ],
   "source": [
    "df_1['estado'].value_counts().sort_index()"
   ]
  },
  {
   "cell_type": "code",
   "execution_count": null,
   "id": "9e61258c-755a-43a2-97e2-6dc5e99395f7",
   "metadata": {},
   "outputs": [],
   "source": [
    "#Agências físicas em 5 estados - SP, RS, RJ, SC, PE. Clientes em todos os estados da Federação"
   ]
  },
  {
   "cell_type": "code",
   "execution_count": 58,
   "id": "39d04663-bd64-460a-ae5b-f1e5c31f1e23",
   "metadata": {},
   "outputs": [
    {
     "data": {
      "text/html": [
       "<div>\n",
       "<style scoped>\n",
       "    .dataframe tbody tr th:only-of-type {\n",
       "        vertical-align: middle;\n",
       "    }\n",
       "\n",
       "    .dataframe tbody tr th {\n",
       "        vertical-align: top;\n",
       "    }\n",
       "\n",
       "    .dataframe thead th {\n",
       "        text-align: right;\n",
       "    }\n",
       "</style>\n",
       "<table border=\"1\" class=\"dataframe\">\n",
       "  <thead>\n",
       "    <tr style=\"text-align: right;\">\n",
       "      <th>faixa_etaria</th>\n",
       "      <th>0-18</th>\n",
       "      <th>19-25</th>\n",
       "      <th>26-35</th>\n",
       "      <th>36-45</th>\n",
       "      <th>46-55</th>\n",
       "      <th>56-65</th>\n",
       "      <th>66+</th>\n",
       "    </tr>\n",
       "    <tr>\n",
       "      <th>estado</th>\n",
       "      <th></th>\n",
       "      <th></th>\n",
       "      <th></th>\n",
       "      <th></th>\n",
       "      <th></th>\n",
       "      <th></th>\n",
       "      <th></th>\n",
       "    </tr>\n",
       "  </thead>\n",
       "  <tbody>\n",
       "    <tr>\n",
       "      <th>AC</th>\n",
       "      <td>3</td>\n",
       "      <td>4</td>\n",
       "      <td>6</td>\n",
       "      <td>7</td>\n",
       "      <td>4</td>\n",
       "      <td>2</td>\n",
       "      <td>12</td>\n",
       "    </tr>\n",
       "    <tr>\n",
       "      <th>AL</th>\n",
       "      <td>1</td>\n",
       "      <td>5</td>\n",
       "      <td>11</td>\n",
       "      <td>4</td>\n",
       "      <td>5</td>\n",
       "      <td>5</td>\n",
       "      <td>9</td>\n",
       "    </tr>\n",
       "    <tr>\n",
       "      <th>AM</th>\n",
       "      <td>3</td>\n",
       "      <td>4</td>\n",
       "      <td>10</td>\n",
       "      <td>10</td>\n",
       "      <td>7</td>\n",
       "      <td>5</td>\n",
       "      <td>14</td>\n",
       "    </tr>\n",
       "    <tr>\n",
       "      <th>AP</th>\n",
       "      <td>0</td>\n",
       "      <td>1</td>\n",
       "      <td>8</td>\n",
       "      <td>8</td>\n",
       "      <td>3</td>\n",
       "      <td>8</td>\n",
       "      <td>7</td>\n",
       "    </tr>\n",
       "    <tr>\n",
       "      <th>BA</th>\n",
       "      <td>1</td>\n",
       "      <td>3</td>\n",
       "      <td>3</td>\n",
       "      <td>6</td>\n",
       "      <td>6</td>\n",
       "      <td>6</td>\n",
       "      <td>9</td>\n",
       "    </tr>\n",
       "    <tr>\n",
       "      <th>CE</th>\n",
       "      <td>1</td>\n",
       "      <td>2</td>\n",
       "      <td>10</td>\n",
       "      <td>6</td>\n",
       "      <td>5</td>\n",
       "      <td>10</td>\n",
       "      <td>9</td>\n",
       "    </tr>\n",
       "    <tr>\n",
       "      <th>DF</th>\n",
       "      <td>1</td>\n",
       "      <td>2</td>\n",
       "      <td>5</td>\n",
       "      <td>4</td>\n",
       "      <td>3</td>\n",
       "      <td>7</td>\n",
       "      <td>11</td>\n",
       "    </tr>\n",
       "    <tr>\n",
       "      <th>ES</th>\n",
       "      <td>0</td>\n",
       "      <td>7</td>\n",
       "      <td>10</td>\n",
       "      <td>6</td>\n",
       "      <td>4</td>\n",
       "      <td>9</td>\n",
       "      <td>13</td>\n",
       "    </tr>\n",
       "    <tr>\n",
       "      <th>GO</th>\n",
       "      <td>0</td>\n",
       "      <td>5</td>\n",
       "      <td>6</td>\n",
       "      <td>2</td>\n",
       "      <td>7</td>\n",
       "      <td>3</td>\n",
       "      <td>11</td>\n",
       "    </tr>\n",
       "    <tr>\n",
       "      <th>MA</th>\n",
       "      <td>1</td>\n",
       "      <td>5</td>\n",
       "      <td>7</td>\n",
       "      <td>6</td>\n",
       "      <td>8</td>\n",
       "      <td>6</td>\n",
       "      <td>11</td>\n",
       "    </tr>\n",
       "    <tr>\n",
       "      <th>MG</th>\n",
       "      <td>0</td>\n",
       "      <td>7</td>\n",
       "      <td>5</td>\n",
       "      <td>9</td>\n",
       "      <td>7</td>\n",
       "      <td>6</td>\n",
       "      <td>6</td>\n",
       "    </tr>\n",
       "    <tr>\n",
       "      <th>MS</th>\n",
       "      <td>0</td>\n",
       "      <td>7</td>\n",
       "      <td>5</td>\n",
       "      <td>12</td>\n",
       "      <td>11</td>\n",
       "      <td>3</td>\n",
       "      <td>9</td>\n",
       "    </tr>\n",
       "    <tr>\n",
       "      <th>MT</th>\n",
       "      <td>1</td>\n",
       "      <td>5</td>\n",
       "      <td>1</td>\n",
       "      <td>2</td>\n",
       "      <td>5</td>\n",
       "      <td>3</td>\n",
       "      <td>11</td>\n",
       "    </tr>\n",
       "    <tr>\n",
       "      <th>PA</th>\n",
       "      <td>2</td>\n",
       "      <td>0</td>\n",
       "      <td>4</td>\n",
       "      <td>8</td>\n",
       "      <td>5</td>\n",
       "      <td>4</td>\n",
       "      <td>10</td>\n",
       "    </tr>\n",
       "    <tr>\n",
       "      <th>PB</th>\n",
       "      <td>2</td>\n",
       "      <td>0</td>\n",
       "      <td>2</td>\n",
       "      <td>6</td>\n",
       "      <td>4</td>\n",
       "      <td>11</td>\n",
       "      <td>12</td>\n",
       "    </tr>\n",
       "    <tr>\n",
       "      <th>PE</th>\n",
       "      <td>1</td>\n",
       "      <td>5</td>\n",
       "      <td>2</td>\n",
       "      <td>2</td>\n",
       "      <td>6</td>\n",
       "      <td>5</td>\n",
       "      <td>7</td>\n",
       "    </tr>\n",
       "    <tr>\n",
       "      <th>PI</th>\n",
       "      <td>2</td>\n",
       "      <td>4</td>\n",
       "      <td>4</td>\n",
       "      <td>4</td>\n",
       "      <td>9</td>\n",
       "      <td>2</td>\n",
       "      <td>6</td>\n",
       "    </tr>\n",
       "    <tr>\n",
       "      <th>PR</th>\n",
       "      <td>0</td>\n",
       "      <td>3</td>\n",
       "      <td>3</td>\n",
       "      <td>7</td>\n",
       "      <td>3</td>\n",
       "      <td>9</td>\n",
       "      <td>8</td>\n",
       "    </tr>\n",
       "    <tr>\n",
       "      <th>RJ</th>\n",
       "      <td>1</td>\n",
       "      <td>4</td>\n",
       "      <td>2</td>\n",
       "      <td>5</td>\n",
       "      <td>6</td>\n",
       "      <td>2</td>\n",
       "      <td>12</td>\n",
       "    </tr>\n",
       "    <tr>\n",
       "      <th>RN</th>\n",
       "      <td>2</td>\n",
       "      <td>4</td>\n",
       "      <td>4</td>\n",
       "      <td>2</td>\n",
       "      <td>4</td>\n",
       "      <td>7</td>\n",
       "      <td>11</td>\n",
       "    </tr>\n",
       "    <tr>\n",
       "      <th>RO</th>\n",
       "      <td>1</td>\n",
       "      <td>2</td>\n",
       "      <td>3</td>\n",
       "      <td>6</td>\n",
       "      <td>3</td>\n",
       "      <td>4</td>\n",
       "      <td>6</td>\n",
       "    </tr>\n",
       "    <tr>\n",
       "      <th>RR</th>\n",
       "      <td>0</td>\n",
       "      <td>5</td>\n",
       "      <td>3</td>\n",
       "      <td>7</td>\n",
       "      <td>7</td>\n",
       "      <td>7</td>\n",
       "      <td>12</td>\n",
       "    </tr>\n",
       "    <tr>\n",
       "      <th>RS</th>\n",
       "      <td>0</td>\n",
       "      <td>3</td>\n",
       "      <td>8</td>\n",
       "      <td>3</td>\n",
       "      <td>8</td>\n",
       "      <td>3</td>\n",
       "      <td>10</td>\n",
       "    </tr>\n",
       "    <tr>\n",
       "      <th>SC</th>\n",
       "      <td>1</td>\n",
       "      <td>2</td>\n",
       "      <td>6</td>\n",
       "      <td>11</td>\n",
       "      <td>2</td>\n",
       "      <td>6</td>\n",
       "      <td>9</td>\n",
       "    </tr>\n",
       "    <tr>\n",
       "      <th>SE</th>\n",
       "      <td>2</td>\n",
       "      <td>2</td>\n",
       "      <td>4</td>\n",
       "      <td>3</td>\n",
       "      <td>6</td>\n",
       "      <td>6</td>\n",
       "      <td>6</td>\n",
       "    </tr>\n",
       "    <tr>\n",
       "      <th>SP</th>\n",
       "      <td>5</td>\n",
       "      <td>7</td>\n",
       "      <td>7</td>\n",
       "      <td>7</td>\n",
       "      <td>6</td>\n",
       "      <td>6</td>\n",
       "      <td>10</td>\n",
       "    </tr>\n",
       "    <tr>\n",
       "      <th>TO</th>\n",
       "      <td>1</td>\n",
       "      <td>7</td>\n",
       "      <td>8</td>\n",
       "      <td>5</td>\n",
       "      <td>5</td>\n",
       "      <td>1</td>\n",
       "      <td>10</td>\n",
       "    </tr>\n",
       "  </tbody>\n",
       "</table>\n",
       "</div>"
      ],
      "text/plain": [
       "faixa_etaria  0-18  19-25  26-35  36-45  46-55  56-65  66+\n",
       "estado                                                    \n",
       "AC               3      4      6      7      4      2   12\n",
       "AL               1      5     11      4      5      5    9\n",
       "AM               3      4     10     10      7      5   14\n",
       "AP               0      1      8      8      3      8    7\n",
       "BA               1      3      3      6      6      6    9\n",
       "CE               1      2     10      6      5     10    9\n",
       "DF               1      2      5      4      3      7   11\n",
       "ES               0      7     10      6      4      9   13\n",
       "GO               0      5      6      2      7      3   11\n",
       "MA               1      5      7      6      8      6   11\n",
       "MG               0      7      5      9      7      6    6\n",
       "MS               0      7      5     12     11      3    9\n",
       "MT               1      5      1      2      5      3   11\n",
       "PA               2      0      4      8      5      4   10\n",
       "PB               2      0      2      6      4     11   12\n",
       "PE               1      5      2      2      6      5    7\n",
       "PI               2      4      4      4      9      2    6\n",
       "PR               0      3      3      7      3      9    8\n",
       "RJ               1      4      2      5      6      2   12\n",
       "RN               2      4      4      2      4      7   11\n",
       "RO               1      2      3      6      3      4    6\n",
       "RR               0      5      3      7      7      7   12\n",
       "RS               0      3      8      3      8      3   10\n",
       "SC               1      2      6     11      2      6    9\n",
       "SE               2      2      4      3      6      6    6\n",
       "SP               5      7      7      7      6      6   10\n",
       "TO               1      7      8      5      5      1   10"
      ]
     },
     "execution_count": 58,
     "metadata": {},
     "output_type": "execute_result"
    }
   ],
   "source": [
    "df_1.groupby(['estado', 'faixa_etaria'],  observed=True).size().unstack(fill_value=0)"
   ]
  },
  {
   "cell_type": "code",
   "execution_count": 60,
   "id": "194b1122-85a4-4570-9caf-3a1f0116187a",
   "metadata": {},
   "outputs": [],
   "source": [
    "distribuicao = df_1.groupby(['estado', 'faixa_etaria'],  observed=True).size().unstack(fill_value=0)"
   ]
  },
  {
   "cell_type": "code",
   "execution_count": 61,
   "id": "8a59478a-b88c-460c-95f4-140618221e2d",
   "metadata": {},
   "outputs": [
    {
     "data": {
      "image/png": "[encoded data removed]",
      "text/plain": [
       "<Figure size 1200x800 with 2 Axes>"
      ]
     },
     "metadata": {},
     "output_type": "display_data"
    }
   ],
   "source": [
    "plt.figure(figsize=(12, 8))\n",
    "sns.heatmap(distribuicao, annot=True, cmap='YlGnBu', fmt='d')\n",
    "plt.title('Distribuição de Clientes por Estado e Faixa Etária')\n",
    "plt.ylabel('Estado')\n",
    "plt.xlabel('Faixa Etária')\n",
    "plt.show()"
   ]
  },
  {
   "cell_type": "code",
   "execution_count": null,
   "id": "5daf2262-f7f0-4aa6-ba1a-cc3122d93e76",
   "metadata": {},
   "outputs": [],
   "source": [
    "#É possível verificar a distribuição de "
   ]
  }
 ],
 "metadata": {
  "kernelspec": {
   "display_name": "Python 3 (ipykernel)",
   "language": "python",
   "name": "python3"
  },
  "language_info": {
   "codemirror_mode": {
    "name": "ipython",
    "version": 3
   },
   "file_extension": ".py",
   "mimetype": "text/x-python",
   "name": "python",
   "nbconvert_exporter": "python",
   "pygments_lexer": "ipython3",
   "version": "3.11.7"
  }
 },
 "nbformat": 4,
 "nbformat_minor": 5
}
